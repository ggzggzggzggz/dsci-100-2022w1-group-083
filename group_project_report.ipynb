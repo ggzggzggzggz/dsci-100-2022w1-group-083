{
 "cells": [
  {
   "cell_type": "markdown",
   "id": "02b50fc2-15c4-4554-9646-02c777c052d1",
   "metadata": {},
   "source": [
    "# Group Project Report\n",
    "\n",
    "Group: 83\n",
    "<br> Guozheng Gong, Brianna Zhou, Saakshith Manjunath, Hrishikesh Rakeshkumar Dalal"
   ]
  },
  {
   "cell_type": "markdown",
   "id": "3cbc33a4-5df0-4fd5-8c4d-705dd9ae7257",
   "metadata": {},
   "source": [
    "### Title: A Model for the Prediction of Heart Disease\n",
    "### Introduction:\n",
    "- provide some relevant background information on the topic so that someone unfamiliar with it will be prepared to understand the rest of your report\n",
    "- clearly state the question you tried to answer with your project\n",
    "- identify and describe the dataset that was used to answer the question"
   ]
  },
  {
   "cell_type": "markdown",
   "id": "322886cc-0a5c-4126-8bdd-a60fd773438d",
   "metadata": {},
   "source": [
    "### Methods & Results:\n",
    "- describe in written English the methods you used to perform your analysis from beginning to end that narrates the code the does the analysis.\n",
    "- your report should include code which:\n",
    "  - loads data from the original source on the web \n",
    "  - wrangles and cleans the data from it's original (downloaded) format to the format necessary for the planned analysis\n",
    "  - performs a summary of the data set that is relevant for exploratory data analysis related to the planned analysis \n",
    "  - creates a visualization of the dataset that is relevant for exploratory data analysis related to the planned analysis\n",
    "  - performs the data analysis\n",
    "  - creates a visualization of the analysis \n",
    "  - note: all tables and figure should have a figure/table number and a legend"
   ]
  },
  {
   "cell_type": "markdown",
   "id": "eaf25d4f-2a2d-4278-a4c9-abbf592eb0b8",
   "metadata": {},
   "source": [
    "### Discussion:\n",
    "- summarize what you found\n",
    "- discuss whether this is what you expected to find?\n",
    "- discuss what impact could such findings have?\n",
    "- discuss what future questions could this lead to?"
   ]
  },
  {
   "cell_type": "markdown",
   "id": "25be65d2-2d0e-4d31-887d-30d341b8477b",
   "metadata": {},
   "source": [
    "### References\n",
    "- At least 2 citations of literature relevant to the project (format is your choice, just be consistent across the references).\n",
    "- Make sure to cite the source of your data as well."
   ]
  },
  {
   "cell_type": "markdown",
   "id": "bcf84ea5-cd05-4848-9e2d-63dcf0639978",
   "metadata": {},
   "source": [
    "**Loading the libraries and setting the seed:**"
   ]
  },
  {
   "cell_type": "code",
   "execution_count": 1,
   "id": "525b4e3a-3bd8-4590-8a10-5bb37b8a5999",
   "metadata": {},
   "outputs": [
    {
     "name": "stderr",
     "output_type": "stream",
     "text": [
      "── \u001b[1mAttaching packages\u001b[22m ─────────────────────────────────────── tidyverse 1.3.1 ──\n",
      "\n",
      "\u001b[32m✔\u001b[39m \u001b[34mggplot2\u001b[39m 3.3.6     \u001b[32m✔\u001b[39m \u001b[34mpurrr  \u001b[39m 0.3.4\n",
      "\u001b[32m✔\u001b[39m \u001b[34mtibble \u001b[39m 3.1.7     \u001b[32m✔\u001b[39m \u001b[34mdplyr  \u001b[39m 1.0.9\n",
      "\u001b[32m✔\u001b[39m \u001b[34mtidyr  \u001b[39m 1.2.0     \u001b[32m✔\u001b[39m \u001b[34mstringr\u001b[39m 1.4.0\n",
      "\u001b[32m✔\u001b[39m \u001b[34mreadr  \u001b[39m 2.1.2     \u001b[32m✔\u001b[39m \u001b[34mforcats\u001b[39m 0.5.1\n",
      "\n",
      "── \u001b[1mConflicts\u001b[22m ────────────────────────────────────────── tidyverse_conflicts() ──\n",
      "\u001b[31m✖\u001b[39m \u001b[34mdplyr\u001b[39m::\u001b[32mfilter()\u001b[39m masks \u001b[34mstats\u001b[39m::filter()\n",
      "\u001b[31m✖\u001b[39m \u001b[34mdplyr\u001b[39m::\u001b[32mlag()\u001b[39m    masks \u001b[34mstats\u001b[39m::lag()\n",
      "\n",
      "── \u001b[1mAttaching packages\u001b[22m ────────────────────────────────────── tidymodels 1.0.0 ──\n",
      "\n",
      "\u001b[32m✔\u001b[39m \u001b[34mbroom       \u001b[39m 1.0.0     \u001b[32m✔\u001b[39m \u001b[34mrsample     \u001b[39m 1.0.0\n",
      "\u001b[32m✔\u001b[39m \u001b[34mdials       \u001b[39m 1.0.0     \u001b[32m✔\u001b[39m \u001b[34mtune        \u001b[39m 1.0.0\n",
      "\u001b[32m✔\u001b[39m \u001b[34minfer       \u001b[39m 1.0.2     \u001b[32m✔\u001b[39m \u001b[34mworkflows   \u001b[39m 1.0.0\n",
      "\u001b[32m✔\u001b[39m \u001b[34mmodeldata   \u001b[39m 1.0.0     \u001b[32m✔\u001b[39m \u001b[34mworkflowsets\u001b[39m 1.0.0\n",
      "\u001b[32m✔\u001b[39m \u001b[34mparsnip     \u001b[39m 1.0.0     \u001b[32m✔\u001b[39m \u001b[34myardstick   \u001b[39m 1.0.0\n",
      "\u001b[32m✔\u001b[39m \u001b[34mrecipes     \u001b[39m 1.0.1     \n",
      "\n",
      "── \u001b[1mConflicts\u001b[22m ───────────────────────────────────────── tidymodels_conflicts() ──\n",
      "\u001b[31m✖\u001b[39m \u001b[34mscales\u001b[39m::\u001b[32mdiscard()\u001b[39m masks \u001b[34mpurrr\u001b[39m::discard()\n",
      "\u001b[31m✖\u001b[39m \u001b[34mdplyr\u001b[39m::\u001b[32mfilter()\u001b[39m   masks \u001b[34mstats\u001b[39m::filter()\n",
      "\u001b[31m✖\u001b[39m \u001b[34mrecipes\u001b[39m::\u001b[32mfixed()\u001b[39m  masks \u001b[34mstringr\u001b[39m::fixed()\n",
      "\u001b[31m✖\u001b[39m \u001b[34mdplyr\u001b[39m::\u001b[32mlag()\u001b[39m      masks \u001b[34mstats\u001b[39m::lag()\n",
      "\u001b[31m✖\u001b[39m \u001b[34myardstick\u001b[39m::\u001b[32mspec()\u001b[39m masks \u001b[34mreadr\u001b[39m::spec()\n",
      "\u001b[31m✖\u001b[39m \u001b[34mrecipes\u001b[39m::\u001b[32mstep()\u001b[39m   masks \u001b[34mstats\u001b[39m::step()\n",
      "\u001b[34m•\u001b[39m Search for functions across packages at \u001b[32mhttps://www.tidymodels.org/find/\u001b[39m\n",
      "\n"
     ]
    }
   ],
   "source": [
    "library(tidyverse) #First run this to load the packages\n",
    "library(tidymodels)\n",
    "set.seed(4321)"
   ]
  },
  {
   "cell_type": "markdown",
   "id": "b517d29f-9d82-462f-86c9-867b56e4c547",
   "metadata": {},
   "source": [
    "**Downloading and reading the data:**"
   ]
  },
  {
   "cell_type": "code",
   "execution_count": 2,
   "id": "94c96153-dddd-4814-8409-aed86c00d640",
   "metadata": {},
   "outputs": [
    {
     "name": "stderr",
     "output_type": "stream",
     "text": [
      "\u001b[1mRows: \u001b[22m\u001b[34m303\u001b[39m \u001b[1mColumns: \u001b[22m\u001b[34m14\u001b[39m\n",
      "\u001b[36m──\u001b[39m \u001b[1mColumn specification\u001b[22m \u001b[36m────────────────────────────────────────────────────────\u001b[39m\n",
      "\u001b[1mDelimiter:\u001b[22m \",\"\n",
      "\u001b[31mchr\u001b[39m  (2): ca, thal\n",
      "\u001b[32mdbl\u001b[39m (12): age, sex, cp, trestbps, chol, fbs, restecg, thalach, exang, oldpea...\n",
      "\n",
      "\u001b[36mℹ\u001b[39m Use `spec()` to retrieve the full column specification for this data.\n",
      "\u001b[36mℹ\u001b[39m Specify the column types or set `show_col_types = FALSE` to quiet this message.\n"
     ]
    }
   ],
   "source": [
    "download.file(url = \"https://archive.ics.uci.edu/ml/machine-learning-databases/heart-disease/processed.cleveland.data\", \n",
    "              destfile = \"data/processed.cleveland.data\")\n",
    "heart_data <- read_csv(file = \"data/processed.cleveland.data\", \n",
    "                 col_names = c(\"age\",\"sex\",\"cp\",\"trestbps\",\"chol\",\"fbs\",\"restecg\",\"thalach\",\n",
    "                               \"exang\",\"oldpeak\",\"slope\",\"ca\",\"thal\",\"num_the_predicted_attribute\"))"
   ]
  },
  {
   "cell_type": "markdown",
   "id": "fc9dea21-0c32-4216-9351-44f0637aac90",
   "metadata": {},
   "source": [
    "**Let's look at the data**"
   ]
  },
  {
   "cell_type": "code",
   "execution_count": 3,
   "id": "35961ed6-ed0b-4d43-83c7-d384d8e524f1",
   "metadata": {},
   "outputs": [
    {
     "data": {
      "text/html": [
       "<table class=\"dataframe\">\n",
       "<caption>A tibble: 6 × 14</caption>\n",
       "<thead>\n",
       "\t<tr><th scope=col>age</th><th scope=col>sex</th><th scope=col>cp</th><th scope=col>trestbps</th><th scope=col>chol</th><th scope=col>fbs</th><th scope=col>restecg</th><th scope=col>thalach</th><th scope=col>exang</th><th scope=col>oldpeak</th><th scope=col>slope</th><th scope=col>ca</th><th scope=col>thal</th><th scope=col>num_the_predicted_attribute</th></tr>\n",
       "\t<tr><th scope=col>&lt;dbl&gt;</th><th scope=col>&lt;dbl&gt;</th><th scope=col>&lt;dbl&gt;</th><th scope=col>&lt;dbl&gt;</th><th scope=col>&lt;dbl&gt;</th><th scope=col>&lt;dbl&gt;</th><th scope=col>&lt;dbl&gt;</th><th scope=col>&lt;dbl&gt;</th><th scope=col>&lt;dbl&gt;</th><th scope=col>&lt;dbl&gt;</th><th scope=col>&lt;dbl&gt;</th><th scope=col>&lt;chr&gt;</th><th scope=col>&lt;chr&gt;</th><th scope=col>&lt;dbl&gt;</th></tr>\n",
       "</thead>\n",
       "<tbody>\n",
       "\t<tr><td>63</td><td>1</td><td>1</td><td>145</td><td>233</td><td>1</td><td>2</td><td>150</td><td>0</td><td>2.3</td><td>3</td><td>0.0</td><td>6.0</td><td>0</td></tr>\n",
       "\t<tr><td>67</td><td>1</td><td>4</td><td>160</td><td>286</td><td>0</td><td>2</td><td>108</td><td>1</td><td>1.5</td><td>2</td><td>3.0</td><td>3.0</td><td>2</td></tr>\n",
       "\t<tr><td>67</td><td>1</td><td>4</td><td>120</td><td>229</td><td>0</td><td>2</td><td>129</td><td>1</td><td>2.6</td><td>2</td><td>2.0</td><td>7.0</td><td>1</td></tr>\n",
       "\t<tr><td>37</td><td>1</td><td>3</td><td>130</td><td>250</td><td>0</td><td>0</td><td>187</td><td>0</td><td>3.5</td><td>3</td><td>0.0</td><td>3.0</td><td>0</td></tr>\n",
       "\t<tr><td>41</td><td>0</td><td>2</td><td>130</td><td>204</td><td>0</td><td>2</td><td>172</td><td>0</td><td>1.4</td><td>1</td><td>0.0</td><td>3.0</td><td>0</td></tr>\n",
       "\t<tr><td>56</td><td>1</td><td>2</td><td>120</td><td>236</td><td>0</td><td>0</td><td>178</td><td>0</td><td>0.8</td><td>1</td><td>0.0</td><td>3.0</td><td>0</td></tr>\n",
       "</tbody>\n",
       "</table>\n"
      ],
      "text/latex": [
       "A tibble: 6 × 14\n",
       "\\begin{tabular}{llllllllllllll}\n",
       " age & sex & cp & trestbps & chol & fbs & restecg & thalach & exang & oldpeak & slope & ca & thal & num\\_the\\_predicted\\_attribute\\\\\n",
       " <dbl> & <dbl> & <dbl> & <dbl> & <dbl> & <dbl> & <dbl> & <dbl> & <dbl> & <dbl> & <dbl> & <chr> & <chr> & <dbl>\\\\\n",
       "\\hline\n",
       "\t 63 & 1 & 1 & 145 & 233 & 1 & 2 & 150 & 0 & 2.3 & 3 & 0.0 & 6.0 & 0\\\\\n",
       "\t 67 & 1 & 4 & 160 & 286 & 0 & 2 & 108 & 1 & 1.5 & 2 & 3.0 & 3.0 & 2\\\\\n",
       "\t 67 & 1 & 4 & 120 & 229 & 0 & 2 & 129 & 1 & 2.6 & 2 & 2.0 & 7.0 & 1\\\\\n",
       "\t 37 & 1 & 3 & 130 & 250 & 0 & 0 & 187 & 0 & 3.5 & 3 & 0.0 & 3.0 & 0\\\\\n",
       "\t 41 & 0 & 2 & 130 & 204 & 0 & 2 & 172 & 0 & 1.4 & 1 & 0.0 & 3.0 & 0\\\\\n",
       "\t 56 & 1 & 2 & 120 & 236 & 0 & 0 & 178 & 0 & 0.8 & 1 & 0.0 & 3.0 & 0\\\\\n",
       "\\end{tabular}\n"
      ],
      "text/markdown": [
       "\n",
       "A tibble: 6 × 14\n",
       "\n",
       "| age &lt;dbl&gt; | sex &lt;dbl&gt; | cp &lt;dbl&gt; | trestbps &lt;dbl&gt; | chol &lt;dbl&gt; | fbs &lt;dbl&gt; | restecg &lt;dbl&gt; | thalach &lt;dbl&gt; | exang &lt;dbl&gt; | oldpeak &lt;dbl&gt; | slope &lt;dbl&gt; | ca &lt;chr&gt; | thal &lt;chr&gt; | num_the_predicted_attribute &lt;dbl&gt; |\n",
       "|---|---|---|---|---|---|---|---|---|---|---|---|---|---|\n",
       "| 63 | 1 | 1 | 145 | 233 | 1 | 2 | 150 | 0 | 2.3 | 3 | 0.0 | 6.0 | 0 |\n",
       "| 67 | 1 | 4 | 160 | 286 | 0 | 2 | 108 | 1 | 1.5 | 2 | 3.0 | 3.0 | 2 |\n",
       "| 67 | 1 | 4 | 120 | 229 | 0 | 2 | 129 | 1 | 2.6 | 2 | 2.0 | 7.0 | 1 |\n",
       "| 37 | 1 | 3 | 130 | 250 | 0 | 0 | 187 | 0 | 3.5 | 3 | 0.0 | 3.0 | 0 |\n",
       "| 41 | 0 | 2 | 130 | 204 | 0 | 2 | 172 | 0 | 1.4 | 1 | 0.0 | 3.0 | 0 |\n",
       "| 56 | 1 | 2 | 120 | 236 | 0 | 0 | 178 | 0 | 0.8 | 1 | 0.0 | 3.0 | 0 |\n",
       "\n"
      ],
      "text/plain": [
       "  age sex cp trestbps chol fbs restecg thalach exang oldpeak slope ca  thal\n",
       "1 63  1   1  145      233  1   2       150     0     2.3     3     0.0 6.0 \n",
       "2 67  1   4  160      286  0   2       108     1     1.5     2     3.0 3.0 \n",
       "3 67  1   4  120      229  0   2       129     1     2.6     2     2.0 7.0 \n",
       "4 37  1   3  130      250  0   0       187     0     3.5     3     0.0 3.0 \n",
       "5 41  0   2  130      204  0   2       172     0     1.4     1     0.0 3.0 \n",
       "6 56  1   2  120      236  0   0       178     0     0.8     1     0.0 3.0 \n",
       "  num_the_predicted_attribute\n",
       "1 0                          \n",
       "2 2                          \n",
       "3 1                          \n",
       "4 0                          \n",
       "5 0                          \n",
       "6 0                          "
      ]
     },
     "metadata": {},
     "output_type": "display_data"
    }
   ],
   "source": [
    "head(heart_data)"
   ]
  },
  {
   "cell_type": "markdown",
   "id": "6ea7276c-529e-45d8-a653-cb66d14645f3",
   "metadata": {},
   "source": [
    "With this model, we are trying to predict if the person has heart disease or not. This is a categorical variable and it can have only two possible values: 0 (if the person does not have heart disease) and 1 (if the person has heart disease). So for our purposes, values 1,2,3,4 have the same meaning (presence of heart disease), so we are converting the values 2,3,4 in `num_the_predicted_attribute` to 1. "
   ]
  },
  {
   "cell_type": "code",
   "execution_count": 4,
   "id": "2f7e64ed-eacb-4629-8cd4-d1f4d319dac2",
   "metadata": {},
   "outputs": [],
   "source": [
    "heart_data1 <- filter(heart_data, num_the_predicted_attribute <=1)\n",
    "heart_data2 <- filter(heart_data, num_the_predicted_attribute > 1)\n",
    "heart_data2 <- mutate(heart_data2, num_the_predicted_attribute = 1)\n",
    "heart_data <- merge(heart_data1, heart_data2, all = T)"
   ]
  },
  {
   "cell_type": "markdown",
   "id": "6466e696-8959-4789-b83f-4c1058ea999c",
   "metadata": {},
   "source": [
    "**Changing num_the_predicted_attribute to be a factor**"
   ]
  },
  {
   "cell_type": "code",
   "execution_count": 5,
   "id": "af87083f-a284-41fb-8e17-40c9880f40d4",
   "metadata": {},
   "outputs": [],
   "source": [
    "heart_data <- mutate(heart_data, num_the_predicted_attribute = as_factor(num_the_predicted_attribute))"
   ]
  },
  {
   "cell_type": "markdown",
   "id": "aec5b497-9374-440c-84be-21da193ccf65",
   "metadata": {},
   "source": [
    "**Selecting only the columns we need**"
   ]
  },
  {
   "cell_type": "code",
   "execution_count": 6,
   "id": "cb4434d6-5476-4a8d-82ba-4972188f7d42",
   "metadata": {},
   "outputs": [
    {
     "data": {
      "text/html": [
       "<table class=\"dataframe\">\n",
       "<caption>A data.frame: 6 × 5</caption>\n",
       "<thead>\n",
       "\t<tr><th></th><th scope=col>age</th><th scope=col>trestbps</th><th scope=col>chol</th><th scope=col>thalach</th><th scope=col>num_the_predicted_attribute</th></tr>\n",
       "\t<tr><th></th><th scope=col>&lt;dbl&gt;</th><th scope=col>&lt;dbl&gt;</th><th scope=col>&lt;dbl&gt;</th><th scope=col>&lt;dbl&gt;</th><th scope=col>&lt;fct&gt;</th></tr>\n",
       "</thead>\n",
       "<tbody>\n",
       "\t<tr><th scope=row>1</th><td>29</td><td>130</td><td>204</td><td>202</td><td>0</td></tr>\n",
       "\t<tr><th scope=row>2</th><td>34</td><td>118</td><td>210</td><td>192</td><td>0</td></tr>\n",
       "\t<tr><th scope=row>3</th><td>34</td><td>118</td><td>182</td><td>174</td><td>0</td></tr>\n",
       "\t<tr><th scope=row>4</th><td>35</td><td>138</td><td>183</td><td>182</td><td>0</td></tr>\n",
       "\t<tr><th scope=row>5</th><td>35</td><td>122</td><td>192</td><td>174</td><td>0</td></tr>\n",
       "\t<tr><th scope=row>6</th><td>35</td><td>120</td><td>198</td><td>130</td><td>1</td></tr>\n",
       "</tbody>\n",
       "</table>\n"
      ],
      "text/latex": [
       "A data.frame: 6 × 5\n",
       "\\begin{tabular}{r|lllll}\n",
       "  & age & trestbps & chol & thalach & num\\_the\\_predicted\\_attribute\\\\\n",
       "  & <dbl> & <dbl> & <dbl> & <dbl> & <fct>\\\\\n",
       "\\hline\n",
       "\t1 & 29 & 130 & 204 & 202 & 0\\\\\n",
       "\t2 & 34 & 118 & 210 & 192 & 0\\\\\n",
       "\t3 & 34 & 118 & 182 & 174 & 0\\\\\n",
       "\t4 & 35 & 138 & 183 & 182 & 0\\\\\n",
       "\t5 & 35 & 122 & 192 & 174 & 0\\\\\n",
       "\t6 & 35 & 120 & 198 & 130 & 1\\\\\n",
       "\\end{tabular}\n"
      ],
      "text/markdown": [
       "\n",
       "A data.frame: 6 × 5\n",
       "\n",
       "| <!--/--> | age &lt;dbl&gt; | trestbps &lt;dbl&gt; | chol &lt;dbl&gt; | thalach &lt;dbl&gt; | num_the_predicted_attribute &lt;fct&gt; |\n",
       "|---|---|---|---|---|---|\n",
       "| 1 | 29 | 130 | 204 | 202 | 0 |\n",
       "| 2 | 34 | 118 | 210 | 192 | 0 |\n",
       "| 3 | 34 | 118 | 182 | 174 | 0 |\n",
       "| 4 | 35 | 138 | 183 | 182 | 0 |\n",
       "| 5 | 35 | 122 | 192 | 174 | 0 |\n",
       "| 6 | 35 | 120 | 198 | 130 | 1 |\n",
       "\n"
      ],
      "text/plain": [
       "  age trestbps chol thalach num_the_predicted_attribute\n",
       "1 29  130      204  202     0                          \n",
       "2 34  118      210  192     0                          \n",
       "3 34  118      182  174     0                          \n",
       "4 35  138      183  182     0                          \n",
       "5 35  122      192  174     0                          \n",
       "6 35  120      198  130     1                          "
      ]
     },
     "metadata": {},
     "output_type": "display_data"
    }
   ],
   "source": [
    "heart_data <- select(heart_data, age, trestbps, chol, thalach, num_the_predicted_attribute)\n",
    "head(heart_data)"
   ]
  },
  {
   "cell_type": "markdown",
   "id": "0821bddc-ab9a-4c00-a77e-c85facfb965c",
   "metadata": {},
   "source": [
    "Now, we are splitting our data set into training and testing data."
   ]
  },
  {
   "cell_type": "code",
   "execution_count": 7,
   "id": "f9f2ed0c-ecd6-45a0-84bf-d09e2e3d93ed",
   "metadata": {},
   "outputs": [],
   "source": [
    "#We are using 75% of the data as training data.\n",
    "heart_data_split <- initial_split(heart_data, prop = 0.75, strata = num_the_predicted_attribute)  \n",
    "heart_data_train <- training(heart_data_split)   \n",
    "heart_data_test <- testing(heart_data_split)"
   ]
  },
  {
   "cell_type": "markdown",
   "id": "91e717c0-d4e3-45b5-8bc8-7396113073ca",
   "metadata": {},
   "source": [
    "Computing the mean of each of the columns for every possible predicted value:"
   ]
  },
  {
   "cell_type": "code",
   "execution_count": 8,
   "id": "715d8f29-099b-4e96-8c38-af076037f6b0",
   "metadata": {},
   "outputs": [
    {
     "data": {
      "text/html": [
       "<table class=\"dataframe\">\n",
       "<caption>A tibble: 2 × 5</caption>\n",
       "<thead>\n",
       "\t<tr><th scope=col>num_the_predicted_attribute</th><th scope=col>trestbps_mean</th><th scope=col>chol_mean</th><th scope=col>age_mean</th><th scope=col>thalach_mean</th></tr>\n",
       "\t<tr><th scope=col>&lt;fct&gt;</th><th scope=col>&lt;dbl&gt;</th><th scope=col>&lt;dbl&gt;</th><th scope=col>&lt;dbl&gt;</th><th scope=col>&lt;dbl&gt;</th></tr>\n",
       "</thead>\n",
       "<tbody>\n",
       "\t<tr><td>0</td><td>128.8049</td><td>244.7886</td><td>52.52033</td><td>157.7236</td></tr>\n",
       "\t<tr><td>1</td><td>133.4423</td><td>248.7885</td><td>55.66346</td><td>139.2500</td></tr>\n",
       "</tbody>\n",
       "</table>\n"
      ],
      "text/latex": [
       "A tibble: 2 × 5\n",
       "\\begin{tabular}{lllll}\n",
       " num\\_the\\_predicted\\_attribute & trestbps\\_mean & chol\\_mean & age\\_mean & thalach\\_mean\\\\\n",
       " <fct> & <dbl> & <dbl> & <dbl> & <dbl>\\\\\n",
       "\\hline\n",
       "\t 0 & 128.8049 & 244.7886 & 52.52033 & 157.7236\\\\\n",
       "\t 1 & 133.4423 & 248.7885 & 55.66346 & 139.2500\\\\\n",
       "\\end{tabular}\n"
      ],
      "text/markdown": [
       "\n",
       "A tibble: 2 × 5\n",
       "\n",
       "| num_the_predicted_attribute &lt;fct&gt; | trestbps_mean &lt;dbl&gt; | chol_mean &lt;dbl&gt; | age_mean &lt;dbl&gt; | thalach_mean &lt;dbl&gt; |\n",
       "|---|---|---|---|---|\n",
       "| 0 | 128.8049 | 244.7886 | 52.52033 | 157.7236 |\n",
       "| 1 | 133.4423 | 248.7885 | 55.66346 | 139.2500 |\n",
       "\n"
      ],
      "text/plain": [
       "  num_the_predicted_attribute trestbps_mean chol_mean age_mean thalach_mean\n",
       "1 0                           128.8049      244.7886  52.52033 157.7236    \n",
       "2 1                           133.4423      248.7885  55.66346 139.2500    "
      ]
     },
     "metadata": {},
     "output_type": "display_data"
    }
   ],
   "source": [
    "summary_data <- group_by(heart_data_train,num_the_predicted_attribute) |>\n",
    "    summarize(trestbps_mean = mean(trestbps), \n",
    "              chol_mean = mean(chol),\n",
    "              age_mean = mean(age),\n",
    "              thalach_mean=mean(thalach))\n",
    "summary_data"
   ]
  },
  {
   "cell_type": "markdown",
   "id": "ba89a8e4-f93a-415b-bcd2-8f05a855d5f2",
   "metadata": {},
   "source": [
    "According to our summary table above, the columns `chol` and `thalach` have a  larger difference in mean values for people with and without the disease. This could help the model differentiate better between the two outcomes, rather than including other columns that have similar values for both cases. This is why we are choosing them as our predictors.\n"
   ]
  },
  {
   "cell_type": "markdown",
   "id": "98173681-8c02-4108-9b95-a4b923fb2f91",
   "metadata": {},
   "source": [
    "**Counting the missing data in each column:**"
   ]
  },
  {
   "cell_type": "code",
   "execution_count": 9,
   "id": "239908f3-3f1d-4d94-9fda-94faa0bddab7",
   "metadata": {},
   "outputs": [
    {
     "data": {
      "text/html": [
       "<table class=\"dataframe\">\n",
       "<caption>A tibble: 1 × 5</caption>\n",
       "<thead>\n",
       "\t<tr><th scope=col>age</th><th scope=col>trestbps</th><th scope=col>chol</th><th scope=col>thalach</th><th scope=col>num_the_predicted_attribute</th></tr>\n",
       "\t<tr><th scope=col>&lt;int&gt;</th><th scope=col>&lt;int&gt;</th><th scope=col>&lt;int&gt;</th><th scope=col>&lt;int&gt;</th><th scope=col>&lt;int&gt;</th></tr>\n",
       "</thead>\n",
       "<tbody>\n",
       "\t<tr><td>0</td><td>0</td><td>0</td><td>0</td><td>0</td></tr>\n",
       "</tbody>\n",
       "</table>\n"
      ],
      "text/latex": [
       "A tibble: 1 × 5\n",
       "\\begin{tabular}{lllll}\n",
       " age & trestbps & chol & thalach & num\\_the\\_predicted\\_attribute\\\\\n",
       " <int> & <int> & <int> & <int> & <int>\\\\\n",
       "\\hline\n",
       "\t 0 & 0 & 0 & 0 & 0\\\\\n",
       "\\end{tabular}\n"
      ],
      "text/markdown": [
       "\n",
       "A tibble: 1 × 5\n",
       "\n",
       "| age &lt;int&gt; | trestbps &lt;int&gt; | chol &lt;int&gt; | thalach &lt;int&gt; | num_the_predicted_attribute &lt;int&gt; |\n",
       "|---|---|---|---|---|\n",
       "| 0 | 0 | 0 | 0 | 0 |\n",
       "\n"
      ],
      "text/plain": [
       "  age trestbps chol thalach num_the_predicted_attribute\n",
       "1 0   0        0    0       0                          "
      ]
     },
     "metadata": {},
     "output_type": "display_data"
    }
   ],
   "source": [
    "missing_data <- heart_data |>\n",
    "     map_df(is.na) |>\n",
    "     map_df(sum)\n",
    "missing_data"
   ]
  },
  {
   "cell_type": "markdown",
   "id": "8a2894b3-4000-4004-a064-8db2ebdd1b0d",
   "metadata": {},
   "source": [
    "It looks like there is no missing data."
   ]
  },
  {
   "cell_type": "markdown",
   "id": "45333a8b-82ac-4481-8c8f-67d01c2801d8",
   "metadata": {},
   "source": [
    "**Visualization: Cholesterol vs. Heart rate scatter plot**"
   ]
  },
  {
   "cell_type": "code",
   "execution_count": 10,
   "id": "902483c7-9c08-4c18-89a8-bd58aea73e3d",
   "metadata": {},
   "outputs": [
    {
     "data": {
      "image/png": "[encoded data removed]",
      "text/plain": [
       "plot without title"
      ]
     },
     "metadata": {
      "image/png": {
       "height": 480,
       "width": 900
      }
     },
     "output_type": "display_data"
    }
   ],
   "source": [
    "options(repr.plot.width = 15, repr.plot.height = 8) \n",
    "\n",
    "chol_v_hr_plot <- heart_data_train |>\n",
    "ggplot(aes(x = thalach, y = chol, colour = num_the_predicted_attribute)) +\n",
    "geom_point() +\n",
    "labs(x = \"Maximum Heart Rate Achieved (bpm)\", y = \"Cholesterol(mg/dl)\", colour = \"Predicted Attribute\") +\n",
    "ggtitle(\"Cholesterol vs Maximum Heart Rate Achieved\") +\n",
    "theme(text=element_text(size=17))\n",
    "\n",
    "chol_v_hr_plot"
   ]
  },
  {
   "cell_type": "markdown",
   "id": "1589eedb-fd3c-4d5a-b658-262778a4c090",
   "metadata": {},
   "source": [
    "From the scatterplot, there does not seem to be any relationship between the two variables, Cholesterol and Maximum Heart Rate Achieved. However, we can observe that the most of the red points lie between a heart rate of 150-200 bpm and the most of the blue points lie between 100-150 bpm. So, people without heart disease seem to have a higher heart rate than the people with heart disease (on average)."
   ]
  },
  {
   "cell_type": "markdown",
   "id": "23dbbde2-6b07-444b-8be5-7d11d05ad44e",
   "metadata": {},
   "source": [
    "**Making the receipe and preprocessing the data**"
   ]
  },
  {
   "cell_type": "markdown",
   "id": "41ddd9ba-a5f9-4d65-b5ab-23279bb67bde",
   "metadata": {},
   "source": [
    "We are centering and scaling the predictors so that each predictor is on a comparable scale."
   ]
  },
  {
   "cell_type": "code",
   "execution_count": 11,
   "id": "e5521063-01aa-4741-a2ed-d0c5d9527a8e",
   "metadata": {},
   "outputs": [],
   "source": [
    "knn_recipe <- recipe(num_the_predicted_attribute ~ ., data = heart_data_train) |>\n",
    "    step_scale(all_predictors()) |>\n",
    "    step_center(all_predictors())"
   ]
  },
  {
   "cell_type": "markdown",
   "id": "fd11282a-9f9e-496f-857d-dd0987d41ca5",
   "metadata": {},
   "source": [
    "**Training the model**"
   ]
  },
  {
   "cell_type": "code",
   "execution_count": 12,
   "id": "71aea97c-df77-42e1-9985-2829d748d62c",
   "metadata": {},
   "outputs": [],
   "source": [
    "knn_tune <- nearest_neighbor(weight_func = \"rectangular\", neighbors = tune()) |>\n",
    "      set_engine(\"kknn\") |>\n",
    "      set_mode(\"classification\")"
   ]
  },
  {
   "cell_type": "markdown",
   "id": "a87db785-ce15-445f-abfd-ebc2bbf9e32b",
   "metadata": {},
   "source": [
    "**Cross-validation**"
   ]
  },
  {
   "cell_type": "markdown",
   "id": "ec6922ff-0fe8-480e-a71c-b37867913418",
   "metadata": {},
   "source": [
    "We are doing 10 fold cross-validation for our training data to find the best value of K ranging from 1 to 20. "
   ]
  },
  {
   "cell_type": "code",
   "execution_count": 13,
   "id": "08b6acb8-43c0-45fc-b3a8-f9a84173657f",
   "metadata": {},
   "outputs": [],
   "source": [
    "heart_vfold <- vfold_cv(heart_data_train, v = 10, strata = num_the_predicted_attribute)\n",
    "gridvals <- tibble(neighbors = 1:20)\n",
    "results <- workflow() |>\n",
    "    add_recipe(knn_recipe) |>\n",
    "    add_model(knn_tune) |>\n",
    "    tune_grid(resamples = heart_vfold, grid = gridvals) |>\n",
    "    collect_metrics()"
   ]
  },
  {
   "cell_type": "markdown",
   "id": "dc142982-b866-422b-b875-06721f8e5c6e",
   "metadata": {},
   "source": [
    "**Making graph to see the accuracy for different neighbors**"
   ]
  },
  {
   "cell_type": "code",
   "execution_count": 14,
   "id": "18c8739a-4db5-4ca1-8636-4d220dbf09f6",
   "metadata": {},
   "outputs": [
    {
     "data": {
      "image/png": "[encoded data removed]",
      "text/plain": [
       "plot without title"
      ]
     },
     "metadata": {
      "image/png": {
       "height": 480,
       "width": 900
      }
     },
     "output_type": "display_data"
    }
   ],
   "source": [
    "accuracies <- results |>\n",
    "      filter(.metric == \"accuracy\")\n",
    "cross_val_plot <- ggplot(accuracies, aes(x = neighbors, y = mean))+\n",
    "      geom_point() +\n",
    "      geom_line() +\n",
    "      labs(x = \"Neighbors\", y = \"Accuracy Estimate\")\n",
    "cross_val_plot"
   ]
  },
  {
   "cell_type": "markdown",
   "id": "43b182f4-8f93-4fb4-9a6b-6a1a34792d06",
   "metadata": {},
   "source": [
    "From this graph we can see neighbors = 17 should be a good choice because it has a high accuracy estimate and the accurcy does not change much for nearby values of K. Choosing a higher value can be computationally expensive. So, we will use K = 17."
   ]
  },
  {
   "cell_type": "markdown",
   "id": "f280e871-9722-47eb-97b7-e2f7a153727c",
   "metadata": {},
   "source": [
    "**Retraining our classifier**"
   ]
  },
  {
   "cell_type": "code",
   "execution_count": 15,
   "id": "c51164bb-809d-4c2e-a10c-e6477b385da6",
   "metadata": {},
   "outputs": [],
   "source": [
    "knn_spec <- nearest_neighbor(weight_func = \"rectangular\", neighbors = 17) |>\n",
    "      set_engine(\"kknn\") |>\n",
    "      set_mode(\"classification\")\n",
    "\n",
    "heart_fit <- workflow() |>\n",
    "      add_recipe(knn_recipe) |>\n",
    "      add_model(knn_spec) |>\n",
    "      fit(data = heart_data_train)"
   ]
  },
  {
   "cell_type": "markdown",
   "id": "a735c3b0-500d-47d9-b80e-f1ab2e87f087",
   "metadata": {},
   "source": [
    "**Testing our model**"
   ]
  },
  {
   "cell_type": "code",
   "execution_count": 16,
   "id": "f8e3ba29-62ab-454f-99e9-11a325cf943c",
   "metadata": {},
   "outputs": [],
   "source": [
    "heart_test_predictions <- predict(heart_fit , heart_data_test) |>\n",
    "      bind_cols(heart_data_test)"
   ]
  },
  {
   "cell_type": "markdown",
   "id": "e6cedfb4-f2b8-4905-9fb1-82755d976da7",
   "metadata": {},
   "source": [
    "**Assessing the accuracy of the model**"
   ]
  },
  {
   "cell_type": "code",
   "execution_count": 17,
   "id": "e31404ff-729f-405e-bd45-0b4f76ec9cd7",
   "metadata": {},
   "outputs": [
    {
     "data": {
      "text/html": [
       "<table class=\"dataframe\">\n",
       "<caption>A tibble: 2 × 3</caption>\n",
       "<thead>\n",
       "\t<tr><th scope=col>.metric</th><th scope=col>.estimator</th><th scope=col>.estimate</th></tr>\n",
       "\t<tr><th scope=col>&lt;chr&gt;</th><th scope=col>&lt;chr&gt;</th><th scope=col>&lt;dbl&gt;</th></tr>\n",
       "</thead>\n",
       "<tbody>\n",
       "\t<tr><td>accuracy</td><td>binary</td><td>0.7763158</td></tr>\n",
       "\t<tr><td>kap     </td><td>binary</td><td>0.5507650</td></tr>\n",
       "</tbody>\n",
       "</table>\n"
      ],
      "text/latex": [
       "A tibble: 2 × 3\n",
       "\\begin{tabular}{lll}\n",
       " .metric & .estimator & .estimate\\\\\n",
       " <chr> & <chr> & <dbl>\\\\\n",
       "\\hline\n",
       "\t accuracy & binary & 0.7763158\\\\\n",
       "\t kap      & binary & 0.5507650\\\\\n",
       "\\end{tabular}\n"
      ],
      "text/markdown": [
       "\n",
       "A tibble: 2 × 3\n",
       "\n",
       "| .metric &lt;chr&gt; | .estimator &lt;chr&gt; | .estimate &lt;dbl&gt; |\n",
       "|---|---|---|\n",
       "| accuracy | binary | 0.7763158 |\n",
       "| kap      | binary | 0.5507650 |\n",
       "\n"
      ],
      "text/plain": [
       "  .metric  .estimator .estimate\n",
       "1 accuracy binary     0.7763158\n",
       "2 kap      binary     0.5507650"
      ]
     },
     "metadata": {},
     "output_type": "display_data"
    }
   ],
   "source": [
    "heart_prediction_accuracy <- heart_test_predictions |>\n",
    "        metrics(truth = num_the_predicted_attribute, estimate =.pred_class )  \n",
    "heart_prediction_accuracy"
   ]
  },
  {
   "cell_type": "markdown",
   "id": "50141e55-5a36-4888-89f4-c40a7b392e30",
   "metadata": {},
   "source": [
    "**Making the confusion matrix**"
   ]
  },
  {
   "cell_type": "code",
   "execution_count": 18,
   "id": "9923fad2-b170-40de-bc1b-b771385b272d",
   "metadata": {},
   "outputs": [
    {
     "data": {
      "text/plain": [
       "          Truth\n",
       "Prediction  0  1\n",
       "         0 32  8\n",
       "         1  9 27"
      ]
     },
     "metadata": {},
     "output_type": "display_data"
    }
   ],
   "source": [
    "heart_mat <- heart_test_predictions |> \n",
    "      conf_mat(truth = num_the_predicted_attribute, estimate =.pred_class)\n",
    "heart_mat"
   ]
  }
 ],
 "metadata": {
  "kernelspec": {
   "display_name": "R",
   "language": "R",
   "name": "ir"
  },
  "language_info": {
   "codemirror_mode": "r",
   "file_extension": ".r",
   "mimetype": "text/x-r-source",
   "name": "R",
   "pygments_lexer": "r",
   "version": "4.1.3"
  }
 },
 "nbformat": 4,
 "nbformat_minor": 5
}
