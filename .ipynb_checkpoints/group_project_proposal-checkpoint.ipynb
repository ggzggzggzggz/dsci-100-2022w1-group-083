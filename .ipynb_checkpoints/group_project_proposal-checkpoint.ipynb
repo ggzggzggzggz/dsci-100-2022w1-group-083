{
 "cells": [
  {
   "cell_type": "markdown",
   "id": "51b2ede4-6822-47a4-b9b0-385ef76ceda2",
   "metadata": {},
   "source": [
    "# Group Project Proposal\n",
    "\n",
    "Group: 83"
   ]
  },
  {
   "cell_type": "markdown",
   "id": "33bf066b-d955-44bd-871e-aaa1571bf9f1",
   "metadata": {},
   "source": [
    "### Title"
   ]
  },
  {
   "cell_type": "markdown",
   "id": "88ff2fa1-3ded-40cf-acd3-3e43bb547fd9",
   "metadata": {},
   "source": [
    "### Introduction:\n",
    "- Provide some relevant background information on the topic so that someone unfamiliar with it will be prepared to understand the rest of your proposal\n",
    "- Clearly state the question you will try to answer with your project\n",
    "- Identify and describe the dataset that will be used to answer the question"
   ]
  },
  {
   "cell_type": "markdown",
   "id": "7a413552-ee21-4d48-9a59-157fa44954db",
   "metadata": {},
   "source": [
    "### Preliminary exploratory data analysis:\n",
    "- Demonstrate that the dataset can be read from the web into R \n",
    "- Clean and wrangle your data into a tidy format\n",
    "- Using only training data, summarize the data in at least one table (this is exploratory data analysis). An example of a useful table could be one that reports the number of observations in each class, the means of the predictor variables you plan to use in your analysis and how many rows have missing data. \n",
    "- Using only training data, visualize the data with at least one plot relevant to the analysis you plan to do (this is exploratory data analysis). An example of a useful visualization could be one that compares the distributions of each of the predictor variables you plan to use in your analysis."
   ]
  },
  {
   "cell_type": "markdown",
   "id": "e492c39b-0a57-4c2b-a074-d31dac48de4d",
   "metadata": {},
   "source": [
    "### Methods:\n",
    "- Explain how you will conduct either your data analysis and which variables/columns you will use. Note - you do not need to use all variables/columns that exist in the raw data set. In fact, that's often not a good idea. For each variable think: is this a useful variable for prediction?\n",
    "- Describe at least one way that you will visualize the results"
   ]
  },
  {
   "cell_type": "markdown",
   "id": "c9cc7132-0cbc-48f2-86b7-d44764c79ac9",
   "metadata": {},
   "source": [
    "### Expected outcomes and significance:\n",
    "- What do you expect to find?\n",
    "- What impact could such findings have?\n",
    "- What future questions could this lead to?"
   ]
  },
  {
   "cell_type": "code",
   "execution_count": null,
   "id": "401c6124-8ecc-4519-91a4-bd97fc03341b",
   "metadata": {},
   "outputs": [],
   "source": []
  }
 ],
 "metadata": {
  "kernelspec": {
   "display_name": "Python 3 (ipykernel)",
   "language": "python",
   "name": "python3"
  },
  "language_info": {
   "codemirror_mode": {
    "name": "ipython",
    "version": 3
   },
   "file_extension": ".py",
   "mimetype": "text/x-python",
   "name": "python",
   "nbconvert_exporter": "python",
   "pygments_lexer": "ipython3",
   "version": "3.10.5"
  }
 },
 "nbformat": 4,
 "nbformat_minor": 5
}
